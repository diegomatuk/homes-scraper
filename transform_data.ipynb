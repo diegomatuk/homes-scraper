{
 "cells": [
  {
   "cell_type": "code",
   "execution_count": 1,
   "metadata": {},
   "outputs": [],
   "source": [
    "import numpy as np\n",
    "import pandas as pd\n",
    "import seaborn as sns\n",
    "import matplotlib.pyplot as plt\n",
    "import random as rnd\n",
    "import scipy.stats as ss\n",
    "import math\n",
    "from sklearn.model_selection import train_test_split\n",
    "\n",
    "\n",
    "import _pickle as cpickle\n",
    "import os\n",
    "import pandas_profiling"
   ]
  },
  {
   "cell_type": "markdown",
   "metadata": {},
   "source": [
    "# LOADING THE DATASET"
   ]
  },
  {
   "cell_type": "code",
   "execution_count": 2,
   "metadata": {},
   "outputs": [],
   "source": [
    "route = os.listdir('Datos/')"
   ]
  },
  {
   "cell_type": "code",
   "execution_count": 3,
   "metadata": {},
   "outputs": [],
   "source": [
    "#Departamenos\n",
    "first_route = route[0]\n",
    "d_df = pd.read_csv(f'Datos/{first_route}')\n",
    "                   \n",
    "for i in route[1:-1]:\n",
    "    tempdf = pd.read_csv(f'Datos/{i}')\n",
    "    d_df = d_df.append(tempdf)\n",
    "\n",
    "#Casas\n",
    "c_df = pd.read_csv(f'Datos/{route[-1]}')"
   ]
  },
  {
   "cell_type": "markdown",
   "metadata": {},
   "source": [
    "# CLEANING THE DATA AND CREATING VARIABLES"
   ]
  },
  {
   "cell_type": "code",
   "execution_count": 4,
   "metadata": {},
   "outputs": [],
   "source": [
    "c_df['Tipo'] = 'Casa'\n",
    "d_df['Tipo'] = 'Departamento'"
   ]
  },
  {
   "cell_type": "code",
   "execution_count": 5,
   "metadata": {},
   "outputs": [],
   "source": [
    "df = d_df.append(c_df)\n",
    "df.reset_index(drop = True,inplace = True)"
   ]
  },
  {
   "cell_type": "code",
   "execution_count": 6,
   "metadata": {},
   "outputs": [],
   "source": [
    "def distritos_apply(x):\n",
    "    a = [i.strip() for i in x.split(',')]\n",
    "    x = ''\n",
    "    for i in a:\n",
    "        x+=i\n",
    "    temp = ['Ancon','Ancón', 'Ate Vitarte','Barranco','Breña',\n",
    "'Carabayllo','Chaclacayo','Chorrillos','Cieneguilla','Comas','El Agustino','Independencia','La Molina',\n",
    "'Jesus Maria','Jesús María','La Victoria','Lince','Los Olivos','Lurigancho','Lurin','Lurín','Magdalena del Mar',\n",
    "'Miraflores','Pachacamac','Pucusana','Pueblo Libre','Puente Piedra','Punta Hermosa','Punta Negra',\n",
    "'Rimac','Rímac','San Bartolo','San Borja','San Isidro','San Juan de Lurigancho','San Juan de Miraflores',\n",
    "'San Luis','San Martin de Porres','San Miguel','Santa Anita','Santa Maria del Mar','Santa María del Mar',\n",
    "'Santa Rosa','Santiago de Surco','Surquillo','Villa el Salvador','Villa Maria del Triunfo','Asia','Mala','Cañete',\n",
    "'Magdalena','San Martín de Porres','San Antonio','Villa María del Triunfo','Callao']\n",
    "    for district in temp:\n",
    "        if district.upper() in x.upper():\n",
    "            return district\n",
    "df['Distrito'] = df['Ubicacion'].apply(distritos_apply)"
   ]
  },
  {
   "cell_type": "code",
   "execution_count": 7,
   "metadata": {},
   "outputs": [],
   "source": [
    "#CORRECTING THE REST OF THE DATA\n",
    "\n",
    "#Squared meters\n",
    "def correc_m2(x):\n",
    "    return x.split('m²')[0]\n",
    "\n",
    "#Parking\n",
    "def correc_parking(x):\n",
    "    if x == 'No hay informacion':\n",
    "        return 1\n",
    "    else:\n",
    "        return x.split('Estacionamientos')[0]\n",
    "#half_baths\n",
    "def correc_half_baths(x):\n",
    "    pass\n",
    "#\n",
    "def correc_dorms(x):\n",
    "    a = (x.split('Dormitorios')[0])\n",
    "    if a == 0:\n",
    "        return 1\n",
    "    else:\n",
    "        return a\n",
    "#\n",
    "def correc_antiquy(x):\n",
    "    temp = x.split('Antigüedad')\n",
    "    if x == 'No hay informacion':\n",
    "        return np.nan\n",
    "    elif x == 'En construcciónAntigüedad':\n",
    "        return 0\n",
    "    elif x == 'A estrenarAntigüedad':\n",
    "        return 0\n",
    "    elif int(temp[0]):\n",
    "        return int(temp[0])\n",
    "        \n",
    "#\n",
    "def correc_near(x):\n",
    "    \n",
    "    if x == 'No hay informacion':\n",
    "        return 0\n",
    "    elif x != 'No hay informacion':\n",
    "        return 1\n",
    "#Corerct floor data\n",
    "def correc_floor(x):\n",
    "    import random as rnd\n",
    "    if x!= 'No hay informacion':\n",
    "        return int(x.split('Piso en el que se encuentra:')[1].strip())\n",
    "    elif x == 'No hay informacion':\n",
    "        return 5 + rnd.randint(-3,3)\n",
    "\n",
    "#correct renatl data\n",
    "def correc_alquiler(x):\n",
    "    if 'S/' in x:\n",
    "        return int(x.split('S/')[1].strip().replace(',',''))\n",
    "    elif x == 'Consultar precio':\n",
    "        return np.nan\n",
    "    elif 'USD' in x:\n",
    "        return 3.4*int(x.split('USD')[1].strip().replace(',',''))\n",
    "    \n",
    "#Correct the manteniance data\n",
    "def correc_mant(x):\n",
    "    if x == 'No Mantenience':\n",
    "        return 1\n",
    "    elif x!= 'No Mantenience':\n",
    "        return float(x.replace(',',''))\n",
    "    \n",
    "def num_floors(x):\n",
    "    if x['Tipo'] == 'Casa':\n",
    "        return np.ceil(x['Dormitorios']/4)\n",
    "    else:\n",
    "        return np.ceil(x['Dormitorios']/3)\n",
    "\n",
    "\n"
   ]
  },
  {
   "cell_type": "code",
   "execution_count": 8,
   "metadata": {},
   "outputs": [],
   "source": [
    "df['Antiguedad del edificio'] = df['Antiguedad del edificio'].apply(correc_antiquy) \n",
    "df['Parque cercano'] = df['Parque cercano'].apply(correc_near)\n",
    "df['Mantenimiento'] = df['Mantenimiento'].apply(correc_mant)\n",
    "df['Parqueo'] = df['Parqueo'].apply(correc_parking)\n",
    "df['Alquiler'] = df['Alquiler'].apply(correc_alquiler)\n",
    "df['Metros cuadrados'] = df['Metros cuadrados'].apply(correc_m2)\n",
    "df['Metros cuadrados techados'] = df['Metros cuadrados techados'].apply(correc_m2)\n",
    "df['Dormitorios'] = df['Dormitorios'].apply(correc_dorms)\n",
    "df['Piso en el que se encuentra'] = df['Piso en el que se encuentra'].apply(correc_floor)"
   ]
  },
  {
   "cell_type": "code",
   "execution_count": 9,
   "metadata": {},
   "outputs": [
    {
     "name": "stdout",
     "output_type": "stream",
     "text": [
      "No hay informacion --> Metros cuadrados\n",
      "No hay informacion --> Metros cuadrados techados\n",
      "No hay informacion --> Dormitorios\n",
      "nan --> Antiguedad del edificio\n",
      "nan --> Alquiler\n"
     ]
    }
   ],
   "source": [
    "#Replacing values with nan (for numeric columns)\n",
    "num = ['Metros cuadrados','Metros cuadrados techados','Parqueo','Dormitorios','Antiguedad del edificio',\n",
    "       'Parque cercano','Piso en el que se encuentra','Alquiler','Mantenimiento']\n",
    "for data in num:\n",
    "    temp =  df[data].unique()\n",
    "    for unique in temp:\n",
    "        try:\n",
    "            int(unique)\n",
    "        except:\n",
    "            print(f'{unique} --> {data}')\n",
    "            \n"
   ]
  },
  {
   "cell_type": "code",
   "execution_count": 10,
   "metadata": {},
   "outputs": [],
   "source": [
    "df[['Metros cuadrados','Metros cuadrados techados','Dormitorios']] = df[['Metros cuadrados','Metros cuadrados techados','Dormitorios']].replace('No hay informacion',np.nan)"
   ]
  },
  {
   "cell_type": "code",
   "execution_count": 11,
   "metadata": {},
   "outputs": [],
   "source": [
    "df['Metros cuadrados'] = pd.to_numeric(df['Metros cuadrados'])\n",
    "df['Metros cuadrados techados'] = pd.to_numeric(df['Metros cuadrados techados'])\n",
    "df['Dormitorios'] = pd.to_numeric(df['Dormitorios'])\n",
    "df['Parqueo'] = pd.to_numeric(df['Parqueo'])\n"
   ]
  },
  {
   "cell_type": "code",
   "execution_count": 12,
   "metadata": {},
   "outputs": [],
   "source": [
    "df['Distrito'].replace({'Rímac':'Rimac_Agust_Independen' ,'El Agustino':'Rimac_Agust_Independen', 'Independencia':'Rimac_Agust_Independen', \n",
    "            'Cieneguilla':'Cienegui_Pachacam_Lurin' , 'Pachacamac':'Cienegui_Pachacam_Lurin', 'Lurin':'Cienegui_Pachacam_Lurin', 'Lurín':'Cienegui_Pachacam_Lurin',\n",
    "            'Villa el Salvador':'Chorrillos_VillaSalvador_VMT','Chorrillos':'Chorrillos_VillaSalvador_VMT','Villa María del Triunfo':'Chorrillos_VillaSalvador_VMT',\n",
    "            'Jesús María':'Jesus Maria', \n",
    "           'Ancón':'Callao_Luriganch_Ancon_Carabay_PuentePie','Carabayllo':'Callao_Luriganch_Ancon_Carabay_PuentePie','Lurigancho':'Callao_Luriganch_Ancon_Carabay_PuentePie',\n",
    "            'Callao':'Callao_Luriganch_Ancon_Carabay_PuentePie',\n",
    "            'Puente Piedra':'Callao_Luriganch_Ancon_Carabay_PuentePie'},inplace = True)"
   ]
  },
  {
   "cell_type": "markdown",
   "metadata": {},
   "source": [
    "# Null values and some variables"
   ]
  },
  {
   "cell_type": "code",
   "execution_count": 13,
   "metadata": {},
   "outputs": [],
   "source": [
    "df['Alquiler'] = df['Alquiler'].fillna(1)\n",
    "df['Dormitorios'] = df['Dormitorios'].fillna(1)\n",
    "df[df['Dormitorios'] == 0] = 1"
   ]
  },
  {
   "cell_type": "code",
   "execution_count": 14,
   "metadata": {},
   "outputs": [],
   "source": [
    "df['Numero de pisos'] = df.apply(num_floors,axis = 1)"
   ]
  },
  {
   "cell_type": "code",
   "execution_count": 15,
   "metadata": {},
   "outputs": [],
   "source": [
    "#m2 techados = m2 if m2== nan\n",
    "df.loc[df['Metros cuadrados'].isnull() == True,'Metros cuadrados'] = df.loc[df['Metros cuadrados'].isnull() == True,'Metros cuadrados techados']\n"
   ]
  },
  {
   "cell_type": "code",
   "execution_count": 16,
   "metadata": {},
   "outputs": [],
   "source": [
    "df.dropna(inplace = True)"
   ]
  },
  {
   "cell_type": "markdown",
   "metadata": {},
   "source": [
    "# ANALYZING  AND PREPARING DATA "
   ]
  },
  {
   "cell_type": "code",
   "execution_count": 17,
   "metadata": {},
   "outputs": [],
   "source": [
    "#Z_Score normalization\n",
    "def z_normalize(df,column):\n",
    "    x = df[column]\n",
    "    normalized_x = (x - x.mean()/x.std()) \n",
    "    return normalized_x\n",
    "\n",
    "#Deleting outlier rows (only for numeric data) --> The data must be normalized\n",
    "def deleting_num(df,column,column2 = None):\n",
    "    temp = df[np.abs(df[column]-df[column].mean()) <= (3*df[column].std())]\n",
    "    return temp.reset_index(drop = True)"
   ]
  },
  {
   "cell_type": "code",
   "execution_count": 18,
   "metadata": {},
   "outputs": [],
   "source": [
    "#Dropping bath and half baths columns\n",
    "df.drop(axis = 1, columns = ['Baños','Medio baños','Unnamed: 0'],inplace = True)"
   ]
  },
  {
   "cell_type": "code",
   "execution_count": 19,
   "metadata": {},
   "outputs": [],
   "source": [
    "df = df.drop_duplicates()"
   ]
  },
  {
   "cell_type": "code",
   "execution_count": 20,
   "metadata": {
    "scrolled": false
   },
   "outputs": [],
   "source": [
    "#Dropping the outliers of rent values\n",
    "df = df[df['Mantenimiento'] < 25000]"
   ]
  },
  {
   "cell_type": "code",
   "execution_count": 21,
   "metadata": {},
   "outputs": [
    {
     "data": {
      "text/plain": [
       "Series([], dtype: float64)"
      ]
     },
     "execution_count": 21,
     "metadata": {},
     "output_type": "execute_result"
    }
   ],
   "source": [
    "#How many missing values (%)\n",
    "missing = (df.isnull().sum()/len(df)) * 100\n",
    "missing[missing > 0]"
   ]
  },
  {
   "cell_type": "markdown",
   "metadata": {},
   "source": [
    "# DUMMY AND SPLITING"
   ]
  },
  {
   "cell_type": "code",
   "execution_count": 22,
   "metadata": {},
   "outputs": [],
   "source": [
    "#Transforming categorical data (Dummy variables)\n",
    "df = pd.concat([df, pd.get_dummies(df['Tipo']).iloc[:,1:]], axis = 1)\n",
    "df = pd.concat([df,pd.get_dummies(df['Distrito']).iloc[:,1:]],axis = 1)"
   ]
  },
  {
   "cell_type": "code",
   "execution_count": 23,
   "metadata": {},
   "outputs": [
    {
     "data": {
      "image/png": "[encoded data removed]",
      "text/plain": [
       "<Figure size 576x396 with 1 Axes>"
      ]
     },
     "metadata": {},
     "output_type": "display_data"
    }
   ],
   "source": [
    "#Outlier detection alquiler (x_train 'alquiler ')\n",
    "target = np.log(df['Alquiler'])\n",
    "sns.distplot(target)\n",
    "df['log_alquiler'] = target\n"
   ]
  },
  {
   "cell_type": "code",
   "execution_count": 24,
   "metadata": {},
   "outputs": [],
   "source": [
    "#Taking out outliers\n",
    "df = deleting_num(df,'log_alquiler')"
   ]
  },
  {
   "cell_type": "code",
   "execution_count": 25,
   "metadata": {},
   "outputs": [],
   "source": [
    "#Separating catogrical columns and numeric columns\n",
    "num_data = df.select_dtypes(include = [np.number])\n",
    "cat_data = df.select_dtypes(exclude = [np.number])"
   ]
  },
  {
   "cell_type": "code",
   "execution_count": 26,
   "metadata": {},
   "outputs": [],
   "source": [
    "target = num_data['log_alquiler']\n",
    "del num_data['Alquiler']\n",
    "del num_data['log_alquiler']\n"
   ]
  },
  {
   "cell_type": "code",
   "execution_count": 27,
   "metadata": {},
   "outputs": [],
   "source": [
    "#Spliting the data (train-test split)     \n",
    "x_train, x_test, y_train, y_test = train_test_split(num_data,target,test_size = 0.3)"
   ]
  },
  {
   "cell_type": "markdown",
   "metadata": {},
   "source": [
    "# DISTRIBUTIONS"
   ]
  },
  {
   "cell_type": "code",
   "execution_count": 28,
   "metadata": {},
   "outputs": [],
   "source": [
    "# #Seeing the distribution for all numeric variables\n",
    "# a = pd.melt(x_train,value_vars = sorted(num_data))\n",
    "# g = sns.FacetGrid(a,col = 'variable',sharex = False, sharey = False)\n",
    "# g = g.map(sns.distplot, 'value')"
   ]
  },
  {
   "cell_type": "code",
   "execution_count": 29,
   "metadata": {},
   "outputs": [],
   "source": [
    "#Counting data in categorical values\n",
    "# def bar_plot(x_train, cols):\n",
    "#     for column in cols:\n",
    "#         fig = plt.figure(figsize=(7,7)) # define plot area\n",
    "#         ax = fig.gca() # define axis   \n",
    "#         count = x_train[column].value_counts()\n",
    "#         count.plot.bar(ax = ax)\n",
    "#         ax.set_title(f'variable = {column}')\n",
    "#         ax.set_xlabel(column)\n",
    "#         plt.show()\n",
    "# bar_plot(x_train,cat_data.columns)"
   ]
  },
  {
   "cell_type": "code",
   "execution_count": 30,
   "metadata": {},
   "outputs": [],
   "source": [
    "#Deleting columns of no use\n",
    "# del x_train['Link Pagina']\n",
    "# del x_train['Link imagen']\n",
    "# del x_train['Ubicacion']\n"
   ]
  },
  {
   "cell_type": "markdown",
   "metadata": {},
   "source": [
    "# RESCALING NUMERIC VALUES"
   ]
  },
  {
   "cell_type": "code",
   "execution_count": 31,
   "metadata": {},
   "outputs": [],
   "source": [
    "\"\"\"x_train --> training sample of the numeric data. x_test --> test sample of numeric data.\n",
    "Scale only on training data. For that you should split before: Only for RIDGE or LASSO regressions\"\"\"\n",
    "def rescale_numeric(x_train,x_test):\n",
    "    #Reescaling the numeric variables\n",
    "    from sklearn.preprocessing import StandardScaler\n",
    "    num_data = x_train.select_dtypes(exclude = 'uint8')\n",
    "    scaler = StandardScaler().fit(num_data)\n",
    "    num_data = scaler.transform(num_data)\n",
    "    \n",
    "    test_num_data = x_test.select_dtypes(exclude = 'uint8')\n",
    "    test_num_data = scaler.transform(test_num_data)\n",
    "    \n",
    "    \n",
    "    #Appending the dummy variables\n",
    "    dummy_train = x_train.select_dtypes(include = 'uint8')\n",
    "    dummy_test = x_test.select_dtypes(include = 'uint8')\n",
    "    \n",
    "    num_data = np.concatenate([num_data,dummy_train],axis = 1)\n",
    "    test_num_data = np.concatenate([test_num_data,dummy_test],axis = 1)\n",
    "    \n",
    "    return num_data, test_num_data,scaler\n"
   ]
  },
  {
   "cell_type": "code",
   "execution_count": 32,
   "metadata": {},
   "outputs": [],
   "source": [
    "\n",
    "def mean_absolute_percentage_error(y_true, y_pred): \n",
    "    from sklearn.utils import check_array as check_arrays\n",
    "    y_true, y_pred = check_arrays(y_true, y_pred)\n",
    "\n",
    "    ## Note: does not handle mix 1d representation\n",
    "    #if _is_1d(y_true): \n",
    "    #    y_true, y_pred = _check_1d_array(y_true, y_pred)\n",
    "\n",
    "    return np.mean(np.abs((y_true - y_pred) / y_true)) * 1"
   ]
  },
  {
   "cell_type": "code",
   "execution_count": 33,
   "metadata": {},
   "outputs": [],
   "source": [
    "def print_metrics(y_true, y_predicted, n_parameters):\n",
    "    import sklearn.metrics as sklm\n",
    "    import math\n",
    "\n",
    "    ## First compute R^2 and the adjusted R^2\n",
    "    r2 = sklm.r2_score(y_true, y_predicted)\n",
    "    r2_adj = r2 - (n_parameters - 1)/(y_true.shape[0] - n_parameters) * (1 - r2)\n",
    "    \n",
    "    ## Print the usual metrics and the R^2 values\n",
    "    print('Mean Square Error      = ' + str(sklm.mean_squared_error(y_true, y_predicted)))\n",
    "    print('Root Mean Square Error = ' + str(math.sqrt(sklm.mean_squared_error(y_true, y_predicted))))\n",
    "    print('Mean Absolute Error    = ' + str(sklm.mean_absolute_error(y_true, y_predicted)))\n",
    "    print('Median Absolute Error  = ' + str(sklm.median_absolute_error(y_true, y_predicted)))\n",
    "    print('R^2                    = ' + str(r2))\n",
    "    print('Adjusted R^2           = ' + str(r2_adj))\n"
   ]
  },
  {
   "cell_type": "code",
   "execution_count": 34,
   "metadata": {},
   "outputs": [],
   "source": [
    "def press_statistic(y_true, y_pred, xs):\n",
    "    \"\"\"\n",
    "    Calculation of the `Press Statistics <https://www.otexts.org/1580>`_\n",
    "    \"\"\"\n",
    "    res = y_pred - y_true\n",
    "    hat = xs.dot(np.linalg.pinv(xs))\n",
    "    den = (1 - np.diagonal(hat))\n",
    "    sqr = np.square(res/den)\n",
    "    return sqr.sum()\n",
    "\n",
    "def predicted_r2(y_true, y_pred, xs):\n",
    "    \"\"\"\n",
    "    Calculation of the `Predicted R-squared <https://rpubs.com/RatherBit/102428>`_\n",
    "    \"\"\"\n",
    "    press = press_statistic(y_true=y_true,\n",
    "                            y_pred=y_pred,\n",
    "                            xs=xs\n",
    "    )\n",
    "\n",
    "    sst  = np.square( y_true - y_true.mean() ).sum()\n",
    "    return 1 - press / sst\n",
    " \n",
    "def r2(y_true, y_pred):\n",
    "    \"\"\"\n",
    "    Calculation of the unadjusted r-squared, goodness of fit metric\n",
    "    \"\"\"\n",
    "    sse  = np.square( y_pred - y_true ).sum()\n",
    "    sst  = np.square( y_true - y_true.mean() ).sum()\n",
    "    return 1 - sse/sst"
   ]
  },
  {
   "cell_type": "markdown",
   "metadata": {},
   "source": [
    "# LINEAR REGRESSION"
   ]
  },
  {
   "cell_type": "code",
   "execution_count": 35,
   "metadata": {},
   "outputs": [
    {
     "data": {
      "text/plain": [
       "LinearRegression(copy_X=True, fit_intercept=True, n_jobs=None, normalize=False)"
      ]
     },
     "execution_count": 35,
     "metadata": {},
     "output_type": "execute_result"
    }
   ],
   "source": [
    "#LINEAR MODEL\n",
    "from sklearn import linear_model\n",
    "lin_model = linear_model.LinearRegression(fit_intercept = True)\n",
    "lin_model.fit(x_train, y_train)"
   ]
  },
  {
   "cell_type": "code",
   "execution_count": 36,
   "metadata": {},
   "outputs": [
    {
     "name": "stdout",
     "output_type": "stream",
     "text": [
      "Mean Square Error      = 0.13849423335662142\n",
      "Root Mean Square Error = 0.37214813361969373\n",
      "Mean Absolute Error    = 0.25492860957979435\n",
      "Median Absolute Error  = 0.1885794650491981\n",
      "R^2                    = 0.7438172239612191\n",
      "Adjusted R^2           = 0.7410359875506654\n"
     ]
    }
   ],
   "source": [
    "#TRAINING METRICS\n",
    "y_training_lr = lin_model.predict(x_train)\n",
    "print_metrics(y_train,y_training_lr,46)"
   ]
  },
  {
   "cell_type": "code",
   "execution_count": 37,
   "metadata": {
    "scrolled": false
   },
   "outputs": [
    {
     "name": "stdout",
     "output_type": "stream",
     "text": [
      "Mean Square Error      = 0.15744036529736333\n",
      "Root Mean Square Error = 0.3967875568832311\n",
      "Mean Absolute Error    = 0.2708554357064538\n",
      "Median Absolute Error  = 0.19444516457578054\n",
      "R^2                    = 0.7266313731347049\n",
      "Adjusted R^2           = 0.7194456835142458\n"
     ]
    }
   ],
   "source": [
    "#TESTING METRICS\n",
    "y_score = lin_model.predict(x_test) \n",
    "print_metrics(y_test,y_score,47)"
   ]
  },
  {
   "cell_type": "markdown",
   "metadata": {},
   "source": [
    "# LASSO REGRESSION"
   ]
  },
  {
   "cell_type": "code",
   "execution_count": 38,
   "metadata": {},
   "outputs": [
    {
     "name": "stderr",
     "output_type": "stream",
     "text": [
      "c:\\users\\diego\\appdata\\local\\programs\\python\\python37\\lib\\site-packages\\sklearn\\linear_model\\_coordinate_descent.py:476: ConvergenceWarning: Objective did not converge. You might want to increase the number of iterations. Duality gap: 250.78045788503658, tolerance: 0.22656844498778297\n",
      "  positive)\n"
     ]
    },
    {
     "data": {
      "text/plain": [
       "Lasso(alpha=1e-15, copy_X=True, fit_intercept=True, max_iter=1000,\n",
       "      normalize=False, positive=False, precompute=False, random_state=None,\n",
       "      selection='cyclic', tol=0.0001, warm_start=False)"
      ]
     },
     "execution_count": 38,
     "metadata": {},
     "output_type": "execute_result"
    }
   ],
   "source": [
    "from sklearn.linear_model import Lasso\n",
    "from sklearn.model_selection import GridSearchCV\n",
    "lasso_regressor=Lasso(alpha = 1e-15)\n",
    "lasso_regressor.fit(x_train,y_train)\n",
    "\n",
    "# parameters={'alpha':[1e-15,1e-10,1e-8,1e-3,1e-2,1,5,10,20,30,35,40,45,50,55,100]}\n",
    "# lasso_regressor=GridSearchCV(lasso,parameters,cv=7)\n",
    "\n",
    "# print(lasso_regressor.best_params_)\n",
    "#print(lasso_regressor.best_score_)"
   ]
  },
  {
   "cell_type": "code",
   "execution_count": 39,
   "metadata": {
    "scrolled": true
   },
   "outputs": [
    {
     "name": "stdout",
     "output_type": "stream",
     "text": [
      "Mean Square Error      = 0.13849423335662142\n",
      "Root Mean Square Error = 0.37214813361969373\n",
      "Mean Absolute Error    = 0.2549286095797902\n",
      "Median Absolute Error  = 0.1885794650490631\n",
      "R^2                    = 0.7438172239612191\n",
      "Adjusted R^2           = 0.7411608797679065\n"
     ]
    }
   ],
   "source": [
    "#TRAINING METRICS\n",
    "y_training_lassor = lasso_regressor.predict(x_train)\n",
    "print_metrics(y_train,y_training_lassor,44)"
   ]
  },
  {
   "cell_type": "code",
   "execution_count": 48,
   "metadata": {},
   "outputs": [
    {
     "data": {
      "text/plain": [
       "Lasso(alpha=1e-15, copy_X=True, fit_intercept=True, max_iter=1000,\n",
       "      normalize=False, positive=False, precompute=False, random_state=None,\n",
       "      selection='cyclic', tol=0.0001, warm_start=False)"
      ]
     },
     "execution_count": 48,
     "metadata": {},
     "output_type": "execute_result"
    }
   ],
   "source": [
    "lasso_regressor"
   ]
  },
  {
   "cell_type": "code",
   "execution_count": 40,
   "metadata": {
    "scrolled": true
   },
   "outputs": [
    {
     "name": "stdout",
     "output_type": "stream",
     "text": [
      "Mean Square Error      = 0.15744036529730562\n",
      "Root Mean Square Error = 0.39678755688315837\n",
      "Mean Absolute Error    = 0.27085543570643456\n",
      "Median Absolute Error  = 0.19444516457576277\n",
      "R^2                    = 0.7266313731348051\n",
      "Adjusted R^2           = 0.7199258106960125\n"
     ]
    }
   ],
   "source": [
    "#TEST METRICS\n",
    "y_lasso = lasso_regressor.predict(x_test)\n",
    "print_metrics(y_test,y_lasso,44)"
   ]
  },
  {
   "cell_type": "code",
   "execution_count": 51,
   "metadata": {},
   "outputs": [],
   "source": [
    "#GOING WITH LASSO REGRESSION\n",
    "# cpickle.dump(lasso_regressor,open('outputs/lasso.pkl','wb'))"
   ]
  },
  {
   "cell_type": "markdown",
   "metadata": {},
   "source": [
    "# RIDGE REGRESSION "
   ]
  },
  {
   "cell_type": "code",
   "execution_count": 41,
   "metadata": {},
   "outputs": [
    {
     "name": "stderr",
     "output_type": "stream",
     "text": [
      "c:\\users\\diego\\appdata\\local\\programs\\python\\python37\\lib\\site-packages\\sklearn\\linear_model\\_ridge.py:148: LinAlgWarning: Ill-conditioned matrix (rcond=2.50885e-23): result may not be accurate.\n",
      "  overwrite_a=True).T\n",
      "c:\\users\\diego\\appdata\\local\\programs\\python\\python37\\lib\\site-packages\\sklearn\\linear_model\\_ridge.py:148: LinAlgWarning: Ill-conditioned matrix (rcond=6.64873e-25): result may not be accurate.\n",
      "  overwrite_a=True).T\n",
      "c:\\users\\diego\\appdata\\local\\programs\\python\\python37\\lib\\site-packages\\sklearn\\linear_model\\_ridge.py:148: LinAlgWarning: Ill-conditioned matrix (rcond=7.67359e-20): result may not be accurate.\n",
      "  overwrite_a=True).T\n",
      "c:\\users\\diego\\appdata\\local\\programs\\python\\python37\\lib\\site-packages\\sklearn\\linear_model\\_ridge.py:148: LinAlgWarning: Ill-conditioned matrix (rcond=7.42681e-20): result may not be accurate.\n",
      "  overwrite_a=True).T\n",
      "c:\\users\\diego\\appdata\\local\\programs\\python\\python37\\lib\\site-packages\\sklearn\\linear_model\\_ridge.py:148: LinAlgWarning: Ill-conditioned matrix (rcond=8.20183e-20): result may not be accurate.\n",
      "  overwrite_a=True).T\n",
      "c:\\users\\diego\\appdata\\local\\programs\\python\\python37\\lib\\site-packages\\sklearn\\linear_model\\_ridge.py:148: LinAlgWarning: Ill-conditioned matrix (rcond=7.39782e-20): result may not be accurate.\n",
      "  overwrite_a=True).T\n",
      "c:\\users\\diego\\appdata\\local\\programs\\python\\python37\\lib\\site-packages\\sklearn\\linear_model\\_ridge.py:148: LinAlgWarning: Ill-conditioned matrix (rcond=7.75049e-20): result may not be accurate.\n",
      "  overwrite_a=True).T\n",
      "c:\\users\\diego\\appdata\\local\\programs\\python\\python37\\lib\\site-packages\\sklearn\\linear_model\\_ridge.py:148: LinAlgWarning: Ill-conditioned matrix (rcond=8.76272e-20): result may not be accurate.\n",
      "  overwrite_a=True).T\n",
      "c:\\users\\diego\\appdata\\local\\programs\\python\\python37\\lib\\site-packages\\sklearn\\linear_model\\_ridge.py:148: LinAlgWarning: Ill-conditioned matrix (rcond=7.64206e-20): result may not be accurate.\n",
      "  overwrite_a=True).T\n",
      "c:\\users\\diego\\appdata\\local\\programs\\python\\python37\\lib\\site-packages\\sklearn\\linear_model\\_ridge.py:148: LinAlgWarning: Ill-conditioned matrix (rcond=8.25257e-20): result may not be accurate.\n",
      "  overwrite_a=True).T\n",
      "c:\\users\\diego\\appdata\\local\\programs\\python\\python37\\lib\\site-packages\\sklearn\\linear_model\\_ridge.py:148: LinAlgWarning: Ill-conditioned matrix (rcond=9.3696e-20): result may not be accurate.\n",
      "  overwrite_a=True).T\n",
      "c:\\users\\diego\\appdata\\local\\programs\\python\\python37\\lib\\site-packages\\sklearn\\linear_model\\_ridge.py:148: LinAlgWarning: Ill-conditioned matrix (rcond=8.12358e-20): result may not be accurate.\n",
      "  overwrite_a=True).T\n",
      "c:\\users\\diego\\appdata\\local\\programs\\python\\python37\\lib\\site-packages\\sklearn\\linear_model\\_ridge.py:148: LinAlgWarning: Ill-conditioned matrix (rcond=7.68299e-18): result may not be accurate.\n",
      "  overwrite_a=True).T\n",
      "c:\\users\\diego\\appdata\\local\\programs\\python\\python37\\lib\\site-packages\\sklearn\\linear_model\\_ridge.py:148: LinAlgWarning: Ill-conditioned matrix (rcond=7.42483e-18): result may not be accurate.\n",
      "  overwrite_a=True).T\n",
      "c:\\users\\diego\\appdata\\local\\programs\\python\\python37\\lib\\site-packages\\sklearn\\linear_model\\_ridge.py:148: LinAlgWarning: Ill-conditioned matrix (rcond=8.20293e-18): result may not be accurate.\n",
      "  overwrite_a=True).T\n",
      "c:\\users\\diego\\appdata\\local\\programs\\python\\python37\\lib\\site-packages\\sklearn\\linear_model\\_ridge.py:148: LinAlgWarning: Ill-conditioned matrix (rcond=7.40238e-18): result may not be accurate.\n",
      "  overwrite_a=True).T\n",
      "c:\\users\\diego\\appdata\\local\\programs\\python\\python37\\lib\\site-packages\\sklearn\\linear_model\\_ridge.py:148: LinAlgWarning: Ill-conditioned matrix (rcond=7.75193e-18): result may not be accurate.\n",
      "  overwrite_a=True).T\n",
      "c:\\users\\diego\\appdata\\local\\programs\\python\\python37\\lib\\site-packages\\sklearn\\linear_model\\_ridge.py:148: LinAlgWarning: Ill-conditioned matrix (rcond=8.76683e-18): result may not be accurate.\n",
      "  overwrite_a=True).T\n",
      "c:\\users\\diego\\appdata\\local\\programs\\python\\python37\\lib\\site-packages\\sklearn\\linear_model\\_ridge.py:148: LinAlgWarning: Ill-conditioned matrix (rcond=7.64646e-18): result may not be accurate.\n",
      "  overwrite_a=True).T\n",
      "c:\\users\\diego\\appdata\\local\\programs\\python\\python37\\lib\\site-packages\\sklearn\\linear_model\\_ridge.py:148: LinAlgWarning: Ill-conditioned matrix (rcond=8.26128e-18): result may not be accurate.\n",
      "  overwrite_a=True).T\n",
      "c:\\users\\diego\\appdata\\local\\programs\\python\\python37\\lib\\site-packages\\sklearn\\linear_model\\_ridge.py:148: LinAlgWarning: Ill-conditioned matrix (rcond=9.38964e-18): result may not be accurate.\n",
      "  overwrite_a=True).T\n",
      "c:\\users\\diego\\appdata\\local\\programs\\python\\python37\\lib\\site-packages\\sklearn\\linear_model\\_ridge.py:148: LinAlgWarning: Ill-conditioned matrix (rcond=8.12604e-18): result may not be accurate.\n",
      "  overwrite_a=True).T\n"
     ]
    },
    {
     "data": {
      "text/plain": [
       "GridSearchCV(cv=10, error_score=nan,\n",
       "             estimator=Ridge(alpha=1.0, copy_X=True, fit_intercept=True,\n",
       "                             max_iter=None, normalize=False, random_state=None,\n",
       "                             solver='auto', tol=0.001),\n",
       "             iid='deprecated', n_jobs=None,\n",
       "             param_grid={'alpha': [1e-15, 1e-10, 1e-08, 0.001, 0.01, 1, 5, 10,\n",
       "                                   20, 30, 35, 40, 45, 50, 55, 100]},\n",
       "             pre_dispatch='2*n_jobs', refit=True, return_train_score=False,\n",
       "             scoring='neg_mean_squared_error', verbose=0)"
      ]
     },
     "execution_count": 41,
     "metadata": {},
     "output_type": "execute_result"
    }
   ],
   "source": [
    "from sklearn.linear_model import Ridge\n",
    "from sklearn.model_selection import GridSearchCV\n",
    "\n",
    "ridge=Ridge()\n",
    "parameters={'alpha':[1e-15,1e-10,1e-8,1e-3,1e-2,1,5,10,20,30,35,40,45,50,55,100]}\n",
    "ridge_regressor=GridSearchCV(ridge,parameters,scoring='neg_mean_squared_error',cv=10)\n",
    "ridge_regressor.fit(x_train,y_train)"
   ]
  },
  {
   "cell_type": "code",
   "execution_count": 42,
   "metadata": {},
   "outputs": [
    {
     "name": "stdout",
     "output_type": "stream",
     "text": [
      "{'alpha': 1}\n",
      "-0.1609289487289635\n"
     ]
    }
   ],
   "source": [
    "print(ridge_regressor.best_params_)\n",
    "print(ridge_regressor.best_score_)"
   ]
  },
  {
   "cell_type": "code",
   "execution_count": 43,
   "metadata": {},
   "outputs": [
    {
     "name": "stdout",
     "output_type": "stream",
     "text": [
      "Mean Square Error      = 0.1387734788494431\n",
      "Root Mean Square Error = 0.37252312525458486\n",
      "Mean Absolute Error    = 0.2550092131103154\n",
      "Median Absolute Error  = 0.18728846568457058\n",
      "R^2                    = 0.7433006834251004\n",
      "Adjusted R^2           = 0.7404512218994137\n"
     ]
    }
   ],
   "source": [
    "#TRAINING METRICS\n",
    "y_training_ridge = ridge_regressor.predict(x_train)\n",
    "print_metrics(y_train,y_training_ridge,47)"
   ]
  },
  {
   "cell_type": "code",
   "execution_count": 44,
   "metadata": {},
   "outputs": [
    {
     "name": "stdout",
     "output_type": "stream",
     "text": [
      "Mean Square Error      = 0.15609443977949808\n",
      "Root Mean Square Error = 0.39508788867731454\n",
      "Mean Absolute Error    = 0.27023970658529917\n",
      "Median Absolute Error  = 0.19364052725649827\n",
      "R^2                    = 0.7289683456765741\n",
      "Adjusted R^2           = 0.7218440850486441\n"
     ]
    }
   ],
   "source": [
    "#TESTING METRICS\n",
    "y_ridge = ridge_regressor.predict(x_test)\n",
    "print_metrics(y_test,y_ridge,47)"
   ]
  },
  {
   "cell_type": "markdown",
   "metadata": {},
   "source": [
    "GOING WITH LASSO REGRESSION"
   ]
  },
  {
   "cell_type": "code",
   "execution_count": 45,
   "metadata": {},
   "outputs": [],
   "source": [
    "lasso_coefs = pd.DataFrame(x_train.columns)\n",
    "lasso_coefs = lasso_coefs.transpose()\n"
   ]
  },
  {
   "cell_type": "code",
   "execution_count": 46,
   "metadata": {},
   "outputs": [],
   "source": [
    "temp = np.vstack((lasso_coefs,lasso_regressor.coef_))\n",
    "lasso_coefs = pd.DataFrame(temp,columns = temp[0]).iloc[1:,:]\n"
   ]
  },
  {
   "cell_type": "code",
   "execution_count": 47,
   "metadata": {},
   "outputs": [],
   "source": [
    "# lasso_coefs.to_csv('outputs/lasso_coeficients.csv')"
   ]
  },
  {
   "cell_type": "code",
   "execution_count": 63,
   "metadata": {},
   "outputs": [
    {
     "data": {
      "text/plain": [
       "Metros cuadrados                             68.0\n",
       "Metros cuadrados techados                    68.0\n",
       "Parqueo                                       1.0\n",
       "Dormitorios                                   1.0\n",
       "Antiguedad del edificio                       8.0\n",
       "Parque cercano                                1.0\n",
       "Piso en el que se encuentra                   8.0\n",
       "Mantenimiento                               260.0\n",
       "Numero de pisos                               1.0\n",
       "Casa                                          0.0\n",
       "Departamento                                  1.0\n",
       "Asia                                          0.0\n",
       "Ate Vitarte                                   0.0\n",
       "Barranco                                      0.0\n",
       "Breña                                         0.0\n",
       "Callao_Luriganch_Ancon_Carabay_PuentePie      0.0\n",
       "Cañete                                        0.0\n",
       "Chaclacayo                                    0.0\n",
       "Chorrillos_VillaSalvador_VMT                  0.0\n",
       "Cienegui_Pachacam_Lurin                       0.0\n",
       "Comas                                         0.0\n",
       "Jesus Maria                                   0.0\n",
       "La Molina                                     0.0\n",
       "La Victoria                                   0.0\n",
       "Lince                                         0.0\n",
       "Los Olivos                                    0.0\n",
       "Magdalena                                     0.0\n",
       "Magdalena del Mar                             0.0\n",
       "Mala                                          0.0\n",
       "Miraflores                                    1.0\n",
       "Pucusana                                      0.0\n",
       "Pueblo Libre                                  0.0\n",
       "Punta Hermosa                                 0.0\n",
       "Punta Negra                                   0.0\n",
       "Rimac_Agust_Independen                        0.0\n",
       "San Antonio                                   0.0\n",
       "San Bartolo                                   0.0\n",
       "San Borja                                     0.0\n",
       "San Isidro                                    0.0\n",
       "San Luis                                      0.0\n",
       "San Martín de Porres                          0.0\n",
       "San Miguel                                    0.0\n",
       "Santa Anita                                   0.0\n",
       "Santa Maria del Mar                           0.0\n",
       "Santiago de Surco                             0.0\n",
       "Surquillo                                     0.0\n",
       "Name: 1087, dtype: float64"
      ]
     },
     "execution_count": 63,
     "metadata": {},
     "output_type": "execute_result"
    }
   ],
   "source": [
    "x_test.iloc[1317]"
   ]
  },
  {
   "cell_type": "code",
   "execution_count": 65,
   "metadata": {},
   "outputs": [
    {
     "data": {
      "text/plain": [
       "1415    7.600902\n",
       "1317    8.445912\n",
       "5640    9.384294\n",
       "2940    7.816014\n",
       "2569    7.003065\n",
       "          ...   \n",
       "4374    7.661056\n",
       "3040    9.301643\n",
       "1935    9.611797\n",
       "5707    9.740969\n",
       "4731    8.226841\n",
       "Name: log_alquiler, Length: 1797, dtype: float64"
      ]
     },
     "execution_count": 65,
     "metadata": {},
     "output_type": "execute_result"
    }
   ],
   "source": [
    "y_test"
   ]
  },
  {
   "cell_type": "code",
   "execution_count": null,
   "metadata": {},
   "outputs": [],
   "source": []
  }
 ],
 "metadata": {
  "kernelspec": {
   "display_name": "Python 3",
   "language": "python",
   "name": "python3"
  },
  "language_info": {
   "codemirror_mode": {
    "name": "ipython",
    "version": 3
   },
   "file_extension": ".py",
   "mimetype": "text/x-python",
   "name": "python",
   "nbconvert_exporter": "python",
   "pygments_lexer": "ipython3",
   "version": "3.7.0"
  }
 },
 "nbformat": 4,
 "nbformat_minor": 2
}
