{
 "cells": [
  {
   "cell_type": "code",
   "execution_count": 1,
   "metadata": {},
   "outputs": [],
   "source": [
    "import numpy as np\n",
    "import pandas as pd\n",
    "import seaborn as sns\n",
    "import matplotlib.pyplot as plt\n",
    "import random as rnd\n",
    "import scipy.stats as ss\n",
    "import math\n",
    "from sklearn.model_selection import train_test_split\n",
    "\n",
    "\n",
    "import os\n",
    "import pandas_profiling"
   ]
  },
  {
   "cell_type": "markdown",
   "metadata": {},
   "source": [
    "# LOADING THE DATASET"
   ]
  },
  {
   "cell_type": "code",
   "execution_count": 2,
   "metadata": {},
   "outputs": [],
   "source": [
    "route = os.listdir('Datos/')"
   ]
  },
  {
   "cell_type": "code",
   "execution_count": 3,
   "metadata": {},
   "outputs": [],
   "source": [
    "#Departamenos\n",
    "first_route = route[0]\n",
    "d_df = pd.read_csv(f'Datos/{first_route}')\n",
    "                   \n",
    "for i in route[1:-1]:\n",
    "    tempdf = pd.read_csv(f'Datos/{i}')\n",
    "    d_df = d_df.append(tempdf)\n",
    "\n",
    "#Casas\n",
    "c_df = pd.read_csv(f'Datos/{route[-1]}')"
   ]
  },
  {
   "cell_type": "markdown",
   "metadata": {},
   "source": [
    "# CLEANING THE DATA AND CREATING VARIABLES"
   ]
  },
  {
   "cell_type": "code",
   "execution_count": 4,
   "metadata": {},
   "outputs": [],
   "source": [
    "c_df['Tipo'] = 'Casa'\n",
    "d_df['Tipo'] = 'Departamento'"
   ]
  },
  {
   "cell_type": "code",
   "execution_count": 5,
   "metadata": {},
   "outputs": [],
   "source": [
    "df = d_df.append(c_df)\n",
    "df.reset_index(drop = True,inplace = True)"
   ]
  },
  {
   "cell_type": "code",
   "execution_count": 6,
   "metadata": {},
   "outputs": [],
   "source": [
    "def distritos_apply(x):\n",
    "    a = [i.strip() for i in x.split(',')]\n",
    "    x = ''\n",
    "    for i in a:\n",
    "        x+=i\n",
    "    temp = ['Ancon','Ancón', 'Ate Vitarte','Barranco','Breña',\n",
    "'Carabayllo','Chaclacayo','Chorrillos','Cieneguilla','Comas','El Agustino','Independencia','La Molina',\n",
    "'Jesus Maria','Jesús María','La Victoria','Lince','Los Olivos','Lurigancho','Lurin','Lurín','Magdalena del Mar',\n",
    "'Miraflores','Pachacamac','Pucusana','Pueblo Libre','Puente Piedra','Punta Hermosa','Punta Negra',\n",
    "'Rimac','Rímac','San Bartolo','San Borja','San Isidro','San Juan de Lurigancho','San Juan de Miraflores',\n",
    "'San Luis','San Martin de Porres','San Miguel','Santa Anita','Santa Maria del Mar','Santa María del Mar',\n",
    "'Santa Rosa','Santiago de Surco','Surquillo','Villa el Salvador','Villa Maria del Triunfo','Asia','Mala','Cañete',\n",
    "'Magdalena','San Martín de Porres','San Antonio','Villa María del Triunfo','Callao']\n",
    "    for district in temp:\n",
    "        if district.upper() in x.upper():\n",
    "            return district\n",
    "df['Distrito'] = df['Ubicacion'].apply(distritos_apply)"
   ]
  },
  {
   "cell_type": "code",
   "execution_count": 7,
   "metadata": {},
   "outputs": [],
   "source": [
    "#CORRECTING THE REST OF THE DATA\n",
    "\n",
    "#Squared meters\n",
    "def correc_m2(x):\n",
    "    return x.split('m²')[0]\n",
    "\n",
    "#Parking\n",
    "def correc_parking(x):\n",
    "    if x == 'No hay informacion':\n",
    "        return 1\n",
    "    else:\n",
    "        return x.split('Estacionamientos')[0]\n",
    "#half_baths\n",
    "def correc_half_baths(x):\n",
    "    pass\n",
    "#\n",
    "def correc_dorms(x):\n",
    "    return (x.split('Dormitorios')[0])\n",
    "#\n",
    "def correc_antiquy(x):\n",
    "    temp = x.split('Antigüedad')\n",
    "    if x == 'No hay informacion':\n",
    "        return np.nan\n",
    "    elif x == 'En construcciónAntigüedad':\n",
    "        return 0\n",
    "    elif x == 'A estrenarAntigüedad':\n",
    "        return 0\n",
    "    elif int(temp[0]):\n",
    "        return int(temp[0])\n",
    "        \n",
    "#\n",
    "def correc_near(x):\n",
    "    if x == 'No hay informacion':\n",
    "        return 0\n",
    "    elif x != 'No hay informacion':\n",
    "        return 1\n",
    "#Corerct floor data\n",
    "def correc_floor(x):\n",
    "    if x!= 'No hay informacion':\n",
    "        return int(x.split('Piso en el que se encuentra:')[1].strip())\n",
    "    elif x == 'No hay informacion':\n",
    "        return 5 + rnd.randint(-3,3)\n",
    "\n",
    "#correct renatl data\n",
    "def correc_alquiler(x):\n",
    "    if 'S/' in x:\n",
    "        return int(x.split('S/')[1].strip().replace(',',''))\n",
    "    elif x == 'Consultar precio':\n",
    "        return np.nan\n",
    "    elif 'USD' in x:\n",
    "        return 3.4*int(x.split('USD')[1].strip().replace(',',''))\n",
    "    \n",
    "#Correct the manteniance data\n",
    "def correc_mant(x):\n",
    "    if x == 'No Mantenience':\n",
    "        return 1\n",
    "    elif x!= 'No Mantenience':\n",
    "        return float(x.replace(',',''))\n",
    "    \n",
    "def num_floors(x):\n",
    "    if x['Tipo'] == 'Casa':\n",
    "        return np.ceil(x['Dormitorios']/4)\n",
    "    else:\n",
    "        return np.ceil(x['Dormitorios']/3)\n",
    "\n",
    "\n"
   ]
  },
  {
   "cell_type": "code",
   "execution_count": 8,
   "metadata": {},
   "outputs": [],
   "source": [
    "df['Antiguedad del edificio'] = df['Antiguedad del edificio'].apply(correc_antiquy) \n",
    "df['Parque cercano'] = df['Parque cercano'].apply(correc_near)\n",
    "df['Mantenimiento'] = df['Mantenimiento'].apply(correc_mant)\n",
    "df['Parqueo'] = df['Parqueo'].apply(correc_parking)\n",
    "df['Alquiler'] = df['Alquiler'].apply(correc_alquiler)\n",
    "df['Metros cuadrados'] = df['Metros cuadrados'].apply(correc_m2)\n",
    "df['Metros cuadrados techados'] = df['Metros cuadrados techados'].apply(correc_m2)\n",
    "df['Dormitorios'] = df['Dormitorios'].apply(correc_dorms)\n",
    "df['Piso en el que se encuentra'] = df['Piso en el que se encuentra'].apply(correc_floor)"
   ]
  },
  {
   "cell_type": "code",
   "execution_count": 9,
   "metadata": {},
   "outputs": [
    {
     "name": "stdout",
     "output_type": "stream",
     "text": [
      "No hay informacion --> Metros cuadrados\n",
      "No hay informacion --> Metros cuadrados techados\n",
      "No hay informacion --> Dormitorios\n",
      "nan --> Antiguedad del edificio\n",
      "nan --> Alquiler\n"
     ]
    }
   ],
   "source": [
    "#Replacing values with nan (for numeric columns)\n",
    "num = ['Metros cuadrados','Metros cuadrados techados','Parqueo','Dormitorios','Antiguedad del edificio',\n",
    "       'Parque cercano','Piso en el que se encuentra','Alquiler','Mantenimiento']\n",
    "for data in num:\n",
    "    temp =  df[data].unique()\n",
    "    for unique in temp:\n",
    "        try:\n",
    "            int(unique)\n",
    "        except:\n",
    "            print(f'{unique} --> {data}')\n",
    "            \n"
   ]
  },
  {
   "cell_type": "code",
   "execution_count": 10,
   "metadata": {},
   "outputs": [],
   "source": [
    "df[['Metros cuadrados','Metros cuadrados techados','Dormitorios']] = df[['Metros cuadrados','Metros cuadrados techados','Dormitorios']].replace('No hay informacion',np.nan)"
   ]
  },
  {
   "cell_type": "code",
   "execution_count": 11,
   "metadata": {},
   "outputs": [],
   "source": [
    "df['Metros cuadrados'] = pd.to_numeric(df['Metros cuadrados'])\n",
    "df['Metros cuadrados techados'] = pd.to_numeric(df['Metros cuadrados techados'])\n",
    "df['Dormitorios'] = pd.to_numeric(df['Dormitorios'])\n",
    "df['Parqueo'] = pd.to_numeric(df['Parqueo'])\n"
   ]
  },
  {
   "cell_type": "code",
   "execution_count": 12,
   "metadata": {},
   "outputs": [],
   "source": [
    "df['Distrito'].replace({'Rímac':'Rimac_Agust_Independen' ,'El Agustino':'Rimac_Agust_Independen', 'Independencia':'Rimac_Agust_Independen', \n",
    "            'Cieneguilla':'Cienegui_Pachacam_Lurin' , 'Pachacamac':'Cienegui_Pachacam_Lurin', 'Lurin':'Cienegui_Pachacam_Lurin', 'Lurín':'Cienegui_Pachacam_Lurin',\n",
    "            'Villa el Salvador':'Chorrillos_VillaSalvador_VMT','Chorrillos':'Chorrillos_VillaSalvador_VMT','Villa María del Triunfo':'Chorrillos_VillaSalvador_VMT',\n",
    "            'Jesús María':'Jesus Maria', \n",
    "           'Ancón':'Callao_Luriganch_Ancon_Carabay_PuentePie','Carabayllo':'Callao_Luriganch_Ancon_Carabay_PuentePie','Lurigancho':'Callao_Luriganch_Ancon_Carabay_PuentePie',\n",
    "            'Callao':'Callao_Luriganch_Ancon_Carabay_PuentePie',\n",
    "            'Puente Piedra':'Callao_Luriganch_Ancon_Carabay_PuentePie'},inplace = True)"
   ]
  },
  {
   "cell_type": "markdown",
   "metadata": {},
   "source": [
    "# Null values and some variables"
   ]
  },
  {
   "cell_type": "code",
   "execution_count": 13,
   "metadata": {},
   "outputs": [],
   "source": [
    "df['Alquiler'] = df['Alquiler'].fillna(1)\n",
    "df['Dormitorios'] = df['Dormitorios'].fillna(1)\n",
    "df[df['Dormitorios'] == 0] = 1"
   ]
  },
  {
   "cell_type": "code",
   "execution_count": 14,
   "metadata": {},
   "outputs": [],
   "source": [
    "df['Numero de pisos'] = df.apply(num_floors,axis = 1)"
   ]
  },
  {
   "cell_type": "code",
   "execution_count": 15,
   "metadata": {},
   "outputs": [],
   "source": [
    "#m2 techados = m2 if m2== nan\n",
    "df.loc[df['Metros cuadrados'].isnull() == True,'Metros cuadrados'] = df.loc[df['Metros cuadrados'].isnull() == True,'Metros cuadrados techados']\n"
   ]
  },
  {
   "cell_type": "code",
   "execution_count": 16,
   "metadata": {},
   "outputs": [],
   "source": [
    "df.dropna(inplace = True)"
   ]
  },
  {
   "cell_type": "markdown",
   "metadata": {},
   "source": [
    "# ANALYZING  AND PREPARING DATA "
   ]
  },
  {
   "cell_type": "code",
   "execution_count": 17,
   "metadata": {},
   "outputs": [],
   "source": [
    "#Z_Score normalization\n",
    "def z_normalize(df,column):\n",
    "    x = df[column]\n",
    "    normalized_x = (x - x.mean()/x.std()) \n",
    "    return normalized_x\n",
    "\n",
    "#Deleting outlier rows (only for numeric data) --> The data must be normalized\n",
    "def deleting_num(df,column,column2 = None):\n",
    "    temp = df[np.abs(df[column]-df[column].mean()) <= (3*df[column].std())]\n",
    "    return temp.reset_index(drop = True)"
   ]
  },
  {
   "cell_type": "code",
   "execution_count": 18,
   "metadata": {},
   "outputs": [],
   "source": [
    "#Dropping bath and half baths columns\n",
    "df.drop(axis = 1, columns = ['Baños','Medio baños','Unnamed: 0'],inplace = True)"
   ]
  },
  {
   "cell_type": "code",
   "execution_count": 19,
   "metadata": {},
   "outputs": [],
   "source": [
    "df = df.drop_duplicates()"
   ]
  },
  {
   "cell_type": "code",
   "execution_count": 20,
   "metadata": {
    "scrolled": false
   },
   "outputs": [],
   "source": [
    "#Dropping the outliers of rent values\n",
    "df = df[df['Mantenimiento'] < 25000]"
   ]
  },
  {
   "cell_type": "code",
   "execution_count": 21,
   "metadata": {},
   "outputs": [
    {
     "data": {
      "text/plain": [
       "Series([], dtype: float64)"
      ]
     },
     "execution_count": 21,
     "metadata": {},
     "output_type": "execute_result"
    }
   ],
   "source": [
    "#How many missing values (%)\n",
    "missing = (df.isnull().sum()/len(df)) * 100\n",
    "missing[missing > 0]"
   ]
  },
  {
   "cell_type": "markdown",
   "metadata": {},
   "source": [
    "# DUMMY AND SPLITING"
   ]
  },
  {
   "cell_type": "code",
   "execution_count": 22,
   "metadata": {},
   "outputs": [],
   "source": [
    "#Transforming categorical data (Dummy variables)\n",
    "df = pd.concat([df, pd.get_dummies(df['Tipo']).iloc[:,1:]], axis = 1)\n",
    "df = pd.concat([df,pd.get_dummies(df['Distrito']).iloc[:,1:]],axis = 1)"
   ]
  },
  {
   "cell_type": "code",
   "execution_count": 23,
   "metadata": {},
   "outputs": [
    {
     "data": {
      "image/png": "[encoded data removed]",
      "text/plain": [
       "<Figure size 576x396 with 1 Axes>"
      ]
     },
     "metadata": {},
     "output_type": "display_data"
    }
   ],
   "source": [
    "#Outlier detection alquiler (x_train 'alquiler ')\n",
    "target = np.log(df['Alquiler'])\n",
    "sns.distplot(target)\n",
    "df['log_alquiler'] = target\n"
   ]
  },
  {
   "cell_type": "code",
   "execution_count": 24,
   "metadata": {},
   "outputs": [],
   "source": [
    "#Taking out outliers\n",
    "df = deleting_num(df,'log_alquiler')"
   ]
  },
  {
   "cell_type": "code",
   "execution_count": 25,
   "metadata": {},
   "outputs": [],
   "source": [
    "#Separating catogrical columns and numeric columns\n",
    "num_data = df.select_dtypes(include = [np.number])\n",
    "cat_data = df.select_dtypes(exclude = [np.number])"
   ]
  },
  {
   "cell_type": "code",
   "execution_count": 26,
   "metadata": {},
   "outputs": [],
   "source": [
    "target = num_data['log_alquiler']\n",
    "del num_data['Alquiler']\n",
    "del num_data['log_alquiler']\n"
   ]
  },
  {
   "cell_type": "code",
   "execution_count": 27,
   "metadata": {},
   "outputs": [],
   "source": [
    "#Spliting the data (train-test split) \n",
    "def splitting(df,log_label):\n",
    "    import sklearn.model_selection as ms\n",
    "    label = np.array(df[log_label])\n",
    "    indx = range(df.shape[0])\n",
    "    indx = ms.train_test_split(indx,test_size = 0.3)\n",
    "    x_train = df.iloc[indx[0],:]\n",
    "    y_train = np.ravel(label[indx[0]])\n",
    "    x_test = df.iloc[indx[1],:]\n",
    "    y_test = np.ravel(label[indx[1]])\n",
    "    return x_train, y_train, x_test, y_test\n",
    "    \n",
    "x_train, x_test, y_train, y_test = train_test_split(num_data,target,test_size = 0.3)"
   ]
  },
  {
   "cell_type": "markdown",
   "metadata": {},
   "source": [
    "# DISTRIBUTIONS"
   ]
  },
  {
   "cell_type": "code",
   "execution_count": 28,
   "metadata": {},
   "outputs": [],
   "source": [
    "# #Seeing the distribution for all numeric variables\n",
    "# a = pd.melt(x_train,value_vars = sorted(num_data))\n",
    "# g = sns.FacetGrid(a,col = 'variable',sharex = False, sharey = False)\n",
    "# g = g.map(sns.distplot, 'value')"
   ]
  },
  {
   "cell_type": "code",
   "execution_count": 29,
   "metadata": {},
   "outputs": [],
   "source": [
    "#Counting data in categorical values\n",
    "# def bar_plot(x_train, cols):\n",
    "#     for column in cols:\n",
    "#         fig = plt.figure(figsize=(7,7)) # define plot area\n",
    "#         ax = fig.gca() # define axis   \n",
    "#         count = x_train[column].value_counts()\n",
    "#         count.plot.bar(ax = ax)\n",
    "#         ax.set_title(f'variable = {column}')\n",
    "#         ax.set_xlabel(column)\n",
    "#         plt.show()\n",
    "# bar_plot(x_train,cat_data.columns)"
   ]
  },
  {
   "cell_type": "code",
   "execution_count": 30,
   "metadata": {},
   "outputs": [],
   "source": [
    "#Deleting columns of no use\n",
    "# del x_train['Link Pagina']\n",
    "# del x_train['Link imagen']\n",
    "# del x_train['Ubicacion']\n"
   ]
  },
  {
   "cell_type": "markdown",
   "metadata": {},
   "source": [
    "# RESCALING NUMERIC VALUES"
   ]
  },
  {
   "cell_type": "code",
   "execution_count": 31,
   "metadata": {},
   "outputs": [],
   "source": [
    "\"\"\"x_train --> training sample of the numeric data. x_test --> test sample of numeric data.\n",
    "Scale only on training data. For that you should split before: Only for RIDGE or LASSO regressions\"\"\"\n",
    "def rescale_numeric(x_train,x_test):\n",
    "    #Reescaling the numeric variables\n",
    "    from sklearn.preprocessing import StandardScaler\n",
    "    num_data = x_train.select_dtypes(exclude = 'uint8')\n",
    "    scaler = StandardScaler().fit(num_data)\n",
    "    num_data = scaler.transform(num_data)\n",
    "    \n",
    "    test_num_data = x_test.select_dtypes(exclude = 'uint8')\n",
    "    test_num_data = scaler.transform(test_num_data)\n",
    "    \n",
    "    \n",
    "    #Appending the dummy variables\n",
    "    dummy_train = x_train.select_dtypes(include = 'uint8')\n",
    "    dummy_test = x_test.select_dtypes(include = 'uint8')\n",
    "    \n",
    "    num_data = np.concatenate([num_data,dummy_train],axis = 1)\n",
    "    test_num_data = np.concatenate([test_num_data,dummy_test],axis = 1)\n",
    "    \n",
    "    return num_data, test_num_data\n"
   ]
  },
  {
   "cell_type": "code",
   "execution_count": 32,
   "metadata": {},
   "outputs": [],
   "source": [
    "\n",
    "def mean_absolute_percentage_error(y_true, y_pred): \n",
    "    from sklearn.utils import check_array as check_arrays\n",
    "    y_true, y_pred = check_arrays(y_true, y_pred)\n",
    "\n",
    "    ## Note: does not handle mix 1d representation\n",
    "    #if _is_1d(y_true): \n",
    "    #    y_true, y_pred = _check_1d_array(y_true, y_pred)\n",
    "\n",
    "    return np.mean(np.abs((y_true - y_pred) / y_true)) * 1"
   ]
  },
  {
   "cell_type": "code",
   "execution_count": 33,
   "metadata": {},
   "outputs": [],
   "source": [
    "def print_metrics(y_true, y_predicted, n_parameters):\n",
    "    import sklearn.metrics as sklm\n",
    "    import math\n",
    "\n",
    "    ## First compute R^2 and the adjusted R^2\n",
    "    r2 = sklm.r2_score(y_true, y_predicted)\n",
    "    r2_adj = r2 - (n_parameters - 1)/(y_true.shape[0] - n_parameters) * (1 - r2)\n",
    "    \n",
    "    ## Print the usual metrics and the R^2 values\n",
    "    print('Mean Square Error      = ' + str(sklm.mean_squared_error(y_true, y_predicted)))\n",
    "    print('Root Mean Square Error = ' + str(math.sqrt(sklm.mean_squared_error(y_true, y_predicted))))\n",
    "    print('Mean Absolute Error    = ' + str(sklm.mean_absolute_error(y_true, y_predicted)))\n",
    "    print('Median Absolute Error  = ' + str(sklm.median_absolute_error(y_true, y_predicted)))\n",
    "    print('R^2                    = ' + str(r2))\n",
    "    print('Adjusted R^2           = ' + str(r2_adj))\n"
   ]
  },
  {
   "cell_type": "code",
   "execution_count": 34,
   "metadata": {},
   "outputs": [],
   "source": [
    "def press_statistic(y_true, y_pred, xs):\n",
    "    \"\"\"\n",
    "    Calculation of the `Press Statistics <https://www.otexts.org/1580>`_\n",
    "    \"\"\"\n",
    "    res = y_pred - y_true\n",
    "    hat = xs.dot(np.linalg.pinv(xs))\n",
    "    den = (1 - np.diagonal(hat))\n",
    "    sqr = np.square(res/den)\n",
    "    return sqr.sum()\n",
    "\n",
    "def predicted_r2(y_true, y_pred, xs):\n",
    "    \"\"\"\n",
    "    Calculation of the `Predicted R-squared <https://rpubs.com/RatherBit/102428>`_\n",
    "    \"\"\"\n",
    "    press = press_statistic(y_true=y_true,\n",
    "                            y_pred=y_pred,\n",
    "                            xs=xs\n",
    "    )\n",
    "\n",
    "    sst  = np.square( y_true - y_true.mean() ).sum()\n",
    "    return 1 - press / sst\n",
    " \n",
    "def r2(y_true, y_pred):\n",
    "    \"\"\"\n",
    "    Calculation of the unadjusted r-squared, goodness of fit metric\n",
    "    \"\"\"\n",
    "    sse  = np.square( y_pred - y_true ).sum()\n",
    "    sst  = np.square( y_true - y_true.mean() ).sum()\n",
    "    return 1 - sse/sst"
   ]
  },
  {
   "cell_type": "code",
   "execution_count": null,
   "metadata": {},
   "outputs": [],
   "source": []
  },
  {
   "cell_type": "markdown",
   "metadata": {},
   "source": [
    "# LINEAR REGRESSION"
   ]
  },
  {
   "cell_type": "code",
   "execution_count": 35,
   "metadata": {},
   "outputs": [
    {
     "data": {
      "text/plain": [
       "LinearRegression(copy_X=True, fit_intercept=True, n_jobs=None, normalize=False)"
      ]
     },
     "execution_count": 35,
     "metadata": {},
     "output_type": "execute_result"
    }
   ],
   "source": [
    "#LINEAR MODEL\n",
    "from sklearn import linear_model\n",
    "lin_model = linear_model.LinearRegression(fit_intercept = True)\n",
    "lin_model.fit(x_train, y_train)"
   ]
  },
  {
   "cell_type": "code",
   "execution_count": 36,
   "metadata": {},
   "outputs": [
    {
     "name": "stdout",
     "output_type": "stream",
     "text": [
      "Mean Square Error      = 0.1484407391267565\n",
      "Root Mean Square Error = 0.38528007880859416\n",
      "Mean Absolute Error    = 0.26556034781541893\n",
      "Median Absolute Error  = 0.19315360086119782\n",
      "R^2                    = 0.733551379135561\n",
      "Adjusted R^2           = 0.7306530982704655\n"
     ]
    }
   ],
   "source": [
    "#TRAINING METRICS\n",
    "y_training_lr = lin_model.predict(x_train)\n",
    "print_metrics(y_train,y_training_lr,46)"
   ]
  },
  {
   "cell_type": "code",
   "execution_count": 37,
   "metadata": {
    "scrolled": false
   },
   "outputs": [
    {
     "name": "stdout",
     "output_type": "stream",
     "text": [
      "Mean Square Error      = 0.1264658054853341\n",
      "Root Mean Square Error = 0.3556203108447746\n",
      "Mean Absolute Error    = 0.25421128566025947\n",
      "Median Absolute Error  = 0.19171833340169497\n",
      "R^2                    = 0.7622035946890531\n",
      "Adjusted R^2           = 0.7559422125228804\n"
     ]
    }
   ],
   "source": [
    "#TESTING METRICS\n",
    "y_score = lin_model.predict(x_test) \n",
    "print_metrics(y_test,y_score,47)"
   ]
  },
  {
   "cell_type": "markdown",
   "metadata": {},
   "source": [
    "# LASSO REGRESSION"
   ]
  },
  {
   "cell_type": "code",
   "execution_count": 38,
   "metadata": {},
   "outputs": [
    {
     "name": "stderr",
     "output_type": "stream",
     "text": [
      "c:\\users\\diego\\appdata\\local\\programs\\python\\python37\\lib\\site-packages\\sklearn\\linear_model\\_coordinate_descent.py:476: ConvergenceWarning: Objective did not converge. You might want to increase the number of iterations. Duality gap: 287.085671980129, tolerance: 0.23303840333372633\n",
      "  positive)\n"
     ]
    },
    {
     "data": {
      "text/plain": [
       "Lasso(alpha=1e-15, copy_X=True, fit_intercept=True, max_iter=1000,\n",
       "      normalize=False, positive=False, precompute=False, random_state=None,\n",
       "      selection='cyclic', tol=0.0001, warm_start=False)"
      ]
     },
     "execution_count": 38,
     "metadata": {},
     "output_type": "execute_result"
    }
   ],
   "source": [
    "from sklearn.linear_model import Lasso\n",
    "from sklearn.model_selection import GridSearchCV\n",
    "lasso_regressor=Lasso(alpha = 1e-15)\n",
    "lasso_regressor.fit(x_train,y_train)\n",
    "\n",
    "# parameters={'alpha':[1e-15,1e-10,1e-8,1e-3,1e-2,1,5,10,20,30,35,40,45,50,55,100]}\n",
    "# lasso_regressor=GridSearchCV(lasso,parameters,cv=7)\n",
    "\n",
    "# print(lasso_regressor.best_params_)\n",
    "#print(lasso_regressor.best_score_)"
   ]
  },
  {
   "cell_type": "code",
   "execution_count": 39,
   "metadata": {
    "scrolled": true
   },
   "outputs": [
    {
     "name": "stdout",
     "output_type": "stream",
     "text": [
      "Mean Square Error      = 0.1484407391267565\n",
      "Root Mean Square Error = 0.38528007880859416\n",
      "Mean Absolute Error    = 0.2655603478154299\n",
      "Median Absolute Error  = 0.19315360086115696\n",
      "R^2                    = 0.733551379135561\n",
      "Adjusted R^2           = 0.7307832489840339\n"
     ]
    }
   ],
   "source": [
    "#TRAINING METRICS\n",
    "y_training_lassor = lasso_regressor.predict(x_train)\n",
    "print_metrics(y_train,y_training_lassor,44)"
   ]
  },
  {
   "cell_type": "code",
   "execution_count": 40,
   "metadata": {
    "scrolled": false
   },
   "outputs": [
    {
     "name": "stdout",
     "output_type": "stream",
     "text": [
      "Mean Square Error      = 0.12646580548536548\n",
      "Root Mean Square Error = 0.3556203108448187\n",
      "Mean Absolute Error    = 0.25421128566028506\n",
      "Median Absolute Error  = 0.1917183334018948\n",
      "R^2                    = 0.7622035946889941\n",
      "Adjusted R^2           = 0.7563605973013523\n"
     ]
    }
   ],
   "source": [
    "#TEST METRICS\n",
    "y_lasso = lasso_regressor.predict(x_test)\n",
    "print_metrics(y_test,y_lasso,44)"
   ]
  },
  {
   "cell_type": "markdown",
   "metadata": {},
   "source": [
    "# RIDGE REGRESSION "
   ]
  },
  {
   "cell_type": "code",
   "execution_count": 41,
   "metadata": {},
   "outputs": [
    {
     "name": "stderr",
     "output_type": "stream",
     "text": [
      "c:\\users\\diego\\appdata\\local\\programs\\python\\python37\\lib\\site-packages\\sklearn\\linear_model\\_ridge.py:148: LinAlgWarning: Ill-conditioned matrix (rcond=6.69373e-24): result may not be accurate.\n",
      "  overwrite_a=True).T\n",
      "c:\\users\\diego\\appdata\\local\\programs\\python\\python37\\lib\\site-packages\\sklearn\\linear_model\\_ridge.py:148: LinAlgWarning: Ill-conditioned matrix (rcond=3.35844e-23): result may not be accurate.\n",
      "  overwrite_a=True).T\n",
      "c:\\users\\diego\\appdata\\local\\programs\\python\\python37\\lib\\site-packages\\sklearn\\linear_model\\_ridge.py:148: LinAlgWarning: Ill-conditioned matrix (rcond=8.97122e-24): result may not be accurate.\n",
      "  overwrite_a=True).T\n",
      "c:\\users\\diego\\appdata\\local\\programs\\python\\python37\\lib\\site-packages\\sklearn\\linear_model\\_ridge.py:148: LinAlgWarning: Ill-conditioned matrix (rcond=6.70075e-20): result may not be accurate.\n",
      "  overwrite_a=True).T\n",
      "c:\\users\\diego\\appdata\\local\\programs\\python\\python37\\lib\\site-packages\\sklearn\\linear_model\\_ridge.py:148: LinAlgWarning: Ill-conditioned matrix (rcond=7.7753e-20): result may not be accurate.\n",
      "  overwrite_a=True).T\n",
      "c:\\users\\diego\\appdata\\local\\programs\\python\\python37\\lib\\site-packages\\sklearn\\linear_model\\_ridge.py:148: LinAlgWarning: Ill-conditioned matrix (rcond=6.89897e-20): result may not be accurate.\n",
      "  overwrite_a=True).T\n",
      "c:\\users\\diego\\appdata\\local\\programs\\python\\python37\\lib\\site-packages\\sklearn\\linear_model\\_ridge.py:148: LinAlgWarning: Ill-conditioned matrix (rcond=6.6293e-20): result may not be accurate.\n",
      "  overwrite_a=True).T\n",
      "c:\\users\\diego\\appdata\\local\\programs\\python\\python37\\lib\\site-packages\\sklearn\\linear_model\\_ridge.py:148: LinAlgWarning: Ill-conditioned matrix (rcond=6.16478e-20): result may not be accurate.\n",
      "  overwrite_a=True).T\n",
      "c:\\users\\diego\\appdata\\local\\programs\\python\\python37\\lib\\site-packages\\sklearn\\linear_model\\_ridge.py:148: LinAlgWarning: Ill-conditioned matrix (rcond=6.22463e-20): result may not be accurate.\n",
      "  overwrite_a=True).T\n",
      "c:\\users\\diego\\appdata\\local\\programs\\python\\python37\\lib\\site-packages\\sklearn\\linear_model\\_ridge.py:148: LinAlgWarning: Ill-conditioned matrix (rcond=6.57732e-20): result may not be accurate.\n",
      "  overwrite_a=True).T\n",
      "c:\\users\\diego\\appdata\\local\\programs\\python\\python37\\lib\\site-packages\\sklearn\\linear_model\\_ridge.py:148: LinAlgWarning: Ill-conditioned matrix (rcond=6.48195e-20): result may not be accurate.\n",
      "  overwrite_a=True).T\n",
      "c:\\users\\diego\\appdata\\local\\programs\\python\\python37\\lib\\site-packages\\sklearn\\linear_model\\_ridge.py:148: LinAlgWarning: Ill-conditioned matrix (rcond=7.35879e-20): result may not be accurate.\n",
      "  overwrite_a=True).T\n",
      "c:\\users\\diego\\appdata\\local\\programs\\python\\python37\\lib\\site-packages\\sklearn\\linear_model\\_ridge.py:148: LinAlgWarning: Ill-conditioned matrix (rcond=6.71869e-20): result may not be accurate.\n",
      "  overwrite_a=True).T\n",
      "c:\\users\\diego\\appdata\\local\\programs\\python\\python37\\lib\\site-packages\\sklearn\\linear_model\\_ridge.py:148: LinAlgWarning: Ill-conditioned matrix (rcond=6.70278e-18): result may not be accurate.\n",
      "  overwrite_a=True).T\n",
      "c:\\users\\diego\\appdata\\local\\programs\\python\\python37\\lib\\site-packages\\sklearn\\linear_model\\_ridge.py:148: LinAlgWarning: Ill-conditioned matrix (rcond=7.77468e-18): result may not be accurate.\n",
      "  overwrite_a=True).T\n",
      "c:\\users\\diego\\appdata\\local\\programs\\python\\python37\\lib\\site-packages\\sklearn\\linear_model\\_ridge.py:148: LinAlgWarning: Ill-conditioned matrix (rcond=6.90154e-18): result may not be accurate.\n",
      "  overwrite_a=True).T\n",
      "c:\\users\\diego\\appdata\\local\\programs\\python\\python37\\lib\\site-packages\\sklearn\\linear_model\\_ridge.py:148: LinAlgWarning: Ill-conditioned matrix (rcond=6.63229e-18): result may not be accurate.\n",
      "  overwrite_a=True).T\n",
      "c:\\users\\diego\\appdata\\local\\programs\\python\\python37\\lib\\site-packages\\sklearn\\linear_model\\_ridge.py:148: LinAlgWarning: Ill-conditioned matrix (rcond=6.16558e-18): result may not be accurate.\n",
      "  overwrite_a=True).T\n",
      "c:\\users\\diego\\appdata\\local\\programs\\python\\python37\\lib\\site-packages\\sklearn\\linear_model\\_ridge.py:148: LinAlgWarning: Ill-conditioned matrix (rcond=6.22557e-18): result may not be accurate.\n",
      "  overwrite_a=True).T\n",
      "c:\\users\\diego\\appdata\\local\\programs\\python\\python37\\lib\\site-packages\\sklearn\\linear_model\\_ridge.py:148: LinAlgWarning: Ill-conditioned matrix (rcond=6.57778e-18): result may not be accurate.\n",
      "  overwrite_a=True).T\n",
      "c:\\users\\diego\\appdata\\local\\programs\\python\\python37\\lib\\site-packages\\sklearn\\linear_model\\_ridge.py:148: LinAlgWarning: Ill-conditioned matrix (rcond=6.48734e-18): result may not be accurate.\n",
      "  overwrite_a=True).T\n",
      "c:\\users\\diego\\appdata\\local\\programs\\python\\python37\\lib\\site-packages\\sklearn\\linear_model\\_ridge.py:148: LinAlgWarning: Ill-conditioned matrix (rcond=7.35813e-18): result may not be accurate.\n",
      "  overwrite_a=True).T\n",
      "c:\\users\\diego\\appdata\\local\\programs\\python\\python37\\lib\\site-packages\\sklearn\\linear_model\\_ridge.py:148: LinAlgWarning: Ill-conditioned matrix (rcond=6.72906e-18): result may not be accurate.\n",
      "  overwrite_a=True).T\n"
     ]
    },
    {
     "data": {
      "text/plain": [
       "GridSearchCV(cv=10, error_score=nan,\n",
       "             estimator=Ridge(alpha=1.0, copy_X=True, fit_intercept=True,\n",
       "                             max_iter=None, normalize=False, random_state=None,\n",
       "                             solver='auto', tol=0.001),\n",
       "             iid='deprecated', n_jobs=None,\n",
       "             param_grid={'alpha': [1e-15, 1e-10, 1e-08, 0.001, 0.01, 1, 5, 10,\n",
       "                                   20, 30, 35, 40, 45, 50, 55, 100]},\n",
       "             pre_dispatch='2*n_jobs', refit=True, return_train_score=False,\n",
       "             scoring='neg_mean_squared_error', verbose=0)"
      ]
     },
     "execution_count": 41,
     "metadata": {},
     "output_type": "execute_result"
    }
   ],
   "source": [
    "from sklearn.linear_model import Ridge\n",
    "from sklearn.model_selection import GridSearchCV\n",
    "\n",
    "ridge=Ridge()\n",
    "parameters={'alpha':[1e-15,1e-10,1e-8,1e-3,1e-2,1,5,10,20,30,35,40,45,50,55,100]}\n",
    "ridge_regressor=GridSearchCV(ridge,parameters,scoring='neg_mean_squared_error',cv=10)\n",
    "ridge_regressor.fit(x_train,y_train)"
   ]
  },
  {
   "cell_type": "code",
   "execution_count": 42,
   "metadata": {},
   "outputs": [
    {
     "name": "stdout",
     "output_type": "stream",
     "text": [
      "{'alpha': 1}\n",
      "-0.1569974924716891\n"
     ]
    }
   ],
   "source": [
    "print(ridge_regressor.best_params_)\n",
    "print(ridge_regressor.best_score_)"
   ]
  },
  {
   "cell_type": "code",
   "execution_count": 43,
   "metadata": {},
   "outputs": [
    {
     "name": "stdout",
     "output_type": "stream",
     "text": [
      "Mean Square Error      = 0.1487426215795581\n",
      "Root Mean Square Error = 0.3856716499557079\n",
      "Mean Absolute Error    = 0.265660173402139\n",
      "Median Absolute Error  = 0.1930696421993341\n",
      "R^2                    = 0.7330095052289411\n",
      "Adjusted R^2           = 0.7300400751613714\n"
     ]
    }
   ],
   "source": [
    "#TRAINING METRICS\n",
    "y_training_ridge = ridge_regressor.predict(x_train)\n",
    "print_metrics(y_train,y_training_ridge,47)"
   ]
  },
  {
   "cell_type": "code",
   "execution_count": 44,
   "metadata": {},
   "outputs": [
    {
     "name": "stdout",
     "output_type": "stream",
     "text": [
      "Mean Square Error      = 0.12596961244067412\n",
      "Root Mean Square Error = 0.3549219807798245\n",
      "Mean Absolute Error    = 0.25361134386178114\n",
      "Median Absolute Error  = 0.1901513239108188\n",
      "R^2                    = 0.7631365972655806\n",
      "Adjusted R^2           = 0.7568997818529971\n"
     ]
    }
   ],
   "source": [
    "#TESTING METRICS\n",
    "y_ridge = ridge_regressor.predict(x_test)\n",
    "print_metrics(y_test,y_ridge,47)"
   ]
  },
  {
   "cell_type": "markdown",
   "metadata": {},
   "source": [
    "GOING WITH LASSO REGRESSION"
   ]
  },
  {
   "cell_type": "code",
   "execution_count": 45,
   "metadata": {},
   "outputs": [],
   "source": [
    "lasso_coefs = pd.DataFrame(x_train.columns)\n",
    "lasso_coefs = lasso_coefs.transpose()\n"
   ]
  },
  {
   "cell_type": "code",
   "execution_count": 46,
   "metadata": {},
   "outputs": [],
   "source": [
    "temp = np.vstack((lasso_coefs,lasso_regressor.coef_))\n",
    "lasso_coefs = pd.DataFrame(temp,columns = temp[0]).iloc[1:,:]\n"
   ]
  },
  {
   "cell_type": "code",
   "execution_count": 47,
   "metadata": {},
   "outputs": [],
   "source": [
    "# lasso_coefs.to_csv('outputs/lasso_coeficients.csv')"
   ]
  },
  {
   "cell_type": "code",
   "execution_count": null,
   "metadata": {},
   "outputs": [],
   "source": []
  }
 ],
 "metadata": {
  "kernelspec": {
   "display_name": "Python 3",
   "language": "python",
   "name": "python3"
  },
  "language_info": {
   "codemirror_mode": {
    "name": "ipython",
    "version": 3
   },
   "file_extension": ".py",
   "mimetype": "text/x-python",
   "name": "python",
   "nbconvert_exporter": "python",
   "pygments_lexer": "ipython3",
   "version": "3.7.0"
  }
 },
 "nbformat": 4,
 "nbformat_minor": 2
}
